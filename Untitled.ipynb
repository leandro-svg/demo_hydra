{
 "cells": [
  {
   "cell_type": "code",
   "execution_count": null,
   "id": "88bd26a0-679c-451d-8ad3-ecbd146220b0",
   "metadata": {},
   "outputs": [],
   "source": [
    "import pykitti\n"
   ]
  },
  {
   "cell_type": "code",
   "execution_count": null,
   "id": "e2cfcc65-10db-4b97-b3c6-155cf0abbe8d",
   "metadata": {},
   "outputs": [],
   "source": []
  }
 ],
 "metadata": {
  "kernelspec": {
   "display_name": "Python (demo_venv_hydra)",
   "language": "python",
   "name": "demo_venv_hydra"
  },
  "language_info": {
   "name": ""
  }
 },
 "nbformat": 4,
 "nbformat_minor": 5
}
